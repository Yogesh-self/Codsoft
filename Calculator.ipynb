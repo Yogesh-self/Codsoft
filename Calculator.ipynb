{
 "cells": [
  {
   "cell_type": "code",
   "execution_count": 1,
   "id": "6b982b26-3679-4171-9f4a-c6ac9639e403",
   "metadata": {},
   "outputs": [
    {
     "name": "stdin",
     "output_type": "stream",
     "text": [
      "Enter Frist Number 5\n",
      "Enter Second Numbber 4\n"
     ]
    },
    {
     "name": "stdout",
     "output_type": "stream",
     "text": [
      "Select operation\n",
      "1. Addition(+)\n",
      "2. Subtraction(-)\n",
      "3. Multipication(*)\n",
      "4. Division(/)\n"
     ]
    },
    {
     "name": "stdin",
     "output_type": "stream",
     "text": [
      "Enter your Choice(1/2/3/4): 1\n"
     ]
    },
    {
     "name": "stdout",
     "output_type": "stream",
     "text": [
      "Result 9\n"
     ]
    }
   ],
   "source": [
    "num1=int(input('Enter Frist Number'))\n",
    "num2=int(input('Enter Second Numbber'))\n",
    "print('Select operation')\n",
    "print('1. Addition(+)')\n",
    "print('2. Subtraction(-)')\n",
    "print('3. Multipication(*)')\n",
    "print('4. Division(/)')\n",
    "choice=(input('Enter your Choice(1/2/3/4):'))\n",
    "if choice =='1':\n",
    "    print('Result',num1+num2)\n",
    "elif choice =='2':\n",
    "    print('Result',num1-num2)\n",
    "elif choice=='3':\n",
    "    print('Result',num1*num2)\n",
    "elif choice=='4':\n",
    "    print('Result',num1/num2)\n",
    "elif num2!=0:\n",
    "    print('Result',num1/num2)\n",
    "    \n",
    "else:\n",
    "    print('Invalid choice! Please select 1/2/3/4')\n",
    "    "
   ]
  },
  {
   "cell_type": "code",
   "execution_count": null,
   "id": "c41f5f0b-c5dd-413f-bb31-02754bf97ae1",
   "metadata": {},
   "outputs": [],
   "source": []
  }
 ],
 "metadata": {
  "kernelspec": {
   "display_name": "Python 3 (ipykernel)",
   "language": "python",
   "name": "python3"
  },
  "language_info": {
   "codemirror_mode": {
    "name": "ipython",
    "version": 3
   },
   "file_extension": ".py",
   "mimetype": "text/x-python",
   "name": "python",
   "nbconvert_exporter": "python",
   "pygments_lexer": "ipython3",
   "version": "3.13.7"
  }
 },
 "nbformat": 4,
 "nbformat_minor": 5
}
