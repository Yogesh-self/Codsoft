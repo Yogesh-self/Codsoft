{
 "cells": [
  {
   "cell_type": "code",
   "execution_count": 2,
   "id": "6f9396df-c56d-441e-b157-f4bb27ab450b",
   "metadata": {},
   "outputs": [],
   "source": [
    "import random"
   ]
  },
  {
   "cell_type": "code",
   "execution_count": 7,
   "id": "dc9050c8-c6df-4063-b8bf-bad29370ab94",
   "metadata": {},
   "outputs": [
    {
     "name": "stdout",
     "output_type": "stream",
     "text": [
      "Rock-Paper-Scissors Game\n"
     ]
    },
    {
     "name": "stdin",
     "output_type": "stream",
     "text": [
      "Enter Rock,Paper,Scissors Rock\n"
     ]
    },
    {
     "name": "stdout",
     "output_type": "stream",
     "text": [
      "Computer choice Rock\n",
      "Its Tie\n"
     ]
    },
    {
     "name": "stdin",
     "output_type": "stream",
     "text": [
      "Enter Rock,Paper,Scissors Paper\n"
     ]
    },
    {
     "name": "stdout",
     "output_type": "stream",
     "text": [
      "Computer choice Paper\n",
      "Its Tie\n"
     ]
    },
    {
     "name": "stdin",
     "output_type": "stream",
     "text": [
      "Enter Rock,Paper,Scissors Rock\n"
     ]
    },
    {
     "name": "stdout",
     "output_type": "stream",
     "text": [
      "Computer choice Paper\n",
      "Computer wins!\n"
     ]
    },
    {
     "name": "stdin",
     "output_type": "stream",
     "text": [
      "Enter Rock,Paper,Scissors Rock\n"
     ]
    },
    {
     "name": "stdout",
     "output_type": "stream",
     "text": [
      "Computer choice Scissors\n",
      "User Wins!\n",
      "----------Final Result------------\n",
      "User: 1 Computer 1\n",
      "The Gme is a Tie\n"
     ]
    }
   ],
   "source": [
    "print ('Rock-Paper-Scissors Game')\n",
    "Choices=['Rock','Paper','Scissors']\n",
    "User_score= 0\n",
    "Computer_score= 0\n",
    "for i in range(4):\n",
    "    User=(input('Enter Rock,Paper,Scissors'))\n",
    "    if User not in Choices:\n",
    "        print('Invalid choice try again')\n",
    "        continue\n",
    "    Computer=random.choice(Choices)\n",
    "    print('Computer choice',Computer)\n",
    "    if User==Computer:\n",
    "        print('Its Tie')\n",
    "    elif (User=='Rock'and Computer=='Scissors') or (User=='Scissors'and Computer=='Paper') or (User=='Paper' and Computer=='Rock'):\n",
    "        print('User Wins!')\n",
    "        User_score+=1\n",
    "    else:\n",
    "        print('Computer wins!')\n",
    "        Computer_score+=1\n",
    "\n",
    "\n",
    "print ('----------Final Result------------')\n",
    "print('User:',User_score,  'Computer',Computer_score)\n",
    "if User_score>Computer_score:\n",
    "    print('User is the Winer')\n",
    "\n",
    "elif User_score<Computer_score:\n",
    "    print('Computer is the Winer')\n",
    "else:\n",
    "    print('The Gme is a Tie')\n",
    "        "
   ]
  },
  {
   "cell_type": "code",
   "execution_count": null,
   "id": "85a580ea-8918-46f6-ba48-7b7b8b9e3a82",
   "metadata": {},
   "outputs": [],
   "source": []
  }
 ],
 "metadata": {
  "kernelspec": {
   "display_name": "Python 3 (ipykernel)",
   "language": "python",
   "name": "python3"
  },
  "language_info": {
   "codemirror_mode": {
    "name": "ipython",
    "version": 3
   },
   "file_extension": ".py",
   "mimetype": "text/x-python",
   "name": "python",
   "nbconvert_exporter": "python",
   "pygments_lexer": "ipython3",
   "version": "3.13.7"
  }
 },
 "nbformat": 4,
 "nbformat_minor": 5
}
